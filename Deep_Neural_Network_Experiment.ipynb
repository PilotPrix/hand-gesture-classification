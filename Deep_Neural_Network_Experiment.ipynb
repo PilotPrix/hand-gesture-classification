{
  "cells": [
    {
      "cell_type": "code",
      "execution_count": 9,
      "metadata": {
        "id": "q2KsjMWX43vn"
      },
      "outputs": [],
      "source": [
        "%matplotlib inline"
      ]
    },
    {
      "cell_type": "code",
      "execution_count": 2,
      "metadata": {
        "id": "f_bwgzHgo3JS"
      },
      "outputs": [],
      "source": [
        "import os\n",
        "import torch\n",
        "from torch import nn\n",
        "import torch.optim \n",
        "import numpy as np #to load dataset\n",
        "import math"
      ]
    },
    {
      "cell_type": "code",
      "execution_count": 3,
      "metadata": {
        "colab": {
          "base_uri": "https://localhost:8080/"
        },
        "id": "kHabcSsao2TJ",
        "outputId": "fdcc01dc-cc63-42d6-fbc5-99604db59a64"
      },
      "outputs": [
        {
          "name": "stdout",
          "output_type": "stream",
          "text": [
            "Device in use: cpu\n"
          ]
        }
      ],
      "source": [
        "device = \"cuda\" if torch.cuda.is_available() else \"cpu\"\n",
        "print(f\"Device in use: {device}\")"
      ]
    },
    {
      "cell_type": "code",
      "execution_count": 29,
      "metadata": {
        "id": "yPQUdDtEyXST"
      },
      "outputs": [
        {
          "name": "stdout",
          "output_type": "stream",
          "text": [
            "(1823, 960)\n",
            "(960,)\n"
          ]
        },
        {
          "ename": "ValueError",
          "evalue": "could not broadcast input array from shape (940,) into shape (960,)",
          "output_type": "error",
          "traceback": [
            "\u001b[1;31m---------------------------------------------------------------------------\u001b[0m",
            "\u001b[1;31mValueError\u001b[0m                                Traceback (most recent call last)",
            "Cell \u001b[1;32mIn[29], line 29\u001b[0m\n\u001b[0;32m     26\u001b[0m \u001b[39m# For each block\u001b[39;00m\n\u001b[0;32m     27\u001b[0m \u001b[39mfor\u001b[39;00m i \u001b[39min\u001b[39;00m \u001b[39mrange\u001b[39m(\u001b[39m0\u001b[39m, rows \u001b[39m-\u001b[39m block_size):\n\u001b[0;32m     28\u001b[0m   \u001b[39m# Get entire row, 1st block_size * 24 rows, 2nd of them and so on..\u001b[39;00m\n\u001b[1;32m---> 29\u001b[0m   X[i] \u001b[39m=\u001b[39m np\u001b[39m.\u001b[39mndarray\u001b[39m.\u001b[39mflatten(edited_rotating_dataset[i \u001b[39m*\u001b[39m block_size : (i \u001b[39m+\u001b[39m \u001b[39m1\u001b[39m) \u001b[39m*\u001b[39m block_size, :])\n\u001b[0;32m     31\u001b[0m \u001b[39m# X now contains mutliple blocks\u001b[39;00m\n\u001b[0;32m     32\u001b[0m y \u001b[39m=\u001b[39m np\u001b[39m.\u001b[39mzeros((rows \u001b[39m-\u001b[39m block_size))\n",
            "\u001b[1;31mValueError\u001b[0m: could not broadcast input array from shape (940,) into shape (960,)"
          ]
        }
      ],
      "source": [
        "# define the dataset\n",
        "# 0 corresponds to rotating\n",
        "# 1 corresponds to grasping\n",
        "\n",
        "# rotating\n",
        "# Legnth of dataset\n",
        "\n",
        "# num rows for one grasp\n",
        "block_size = 2 * 24\n",
        "\n",
        "#linux command\n",
        "# %cd /content/drive/MyDrive/PyTorch/\n",
        "unedited_rotating_dataset = np.loadtxt('rotating.csv', delimiter=\",\")\n",
        "# Split into multiple movements over time (\"block_size\" seconds)\n",
        "edited_rotating_dataset = unedited_rotating_dataset[:-1,1:21] #corresponding to cols 2 - 21 inclusive, excluding the last row of zeros\n",
        "# Define a new shape of x\n",
        "# First dimension, number of rows / (block_size * 24), then take the floor\n",
        "n_blocks = math.floor(unedited_rotating_dataset.shape[0] / block_size)\n",
        "# Get number of rows\n",
        "rows = edited_rotating_dataset.shape[0]\n",
        "X = np.zeros((rows - block_size, block_size * 20))  # (Block size * 24) seconds times 20 rows\n",
        "\n",
        "print(X.shape)\n",
        "i = 0\n",
        "print(np.ndarray.flatten(edited_rotating_dataset[i * block_size : (i + 1) * block_size, :]).shape)\n",
        "# For each block\n",
        "for i in range(0, rows - block_size):\n",
        "  # Get entire row, 1st block_size * 24 rows, 2nd of them and so on..\n",
        "  X[i] = np.ndarray.flatten(edited_rotating_dataset[i * block_size : (i + 1) * block_size, :])\n",
        "\n",
        "# X now contains mutliple blocks\n",
        "y = np.zeros((rows - block_size))\n",
        "\n",
        "\n",
        "# grasping\n",
        "unedited_grasping_dataset = np.loadtxt('grasping.csv', delimiter=\",\")\n",
        "edited_grasping_dataset = unedited_grasping_dataset[:-1,1:21]\n",
        "# Define a new shape of x\n",
        "# First dimension, number of rows / (block_size * 24), then take the floor\n",
        "n_blocks = math.floor(edited_grasping_dataset.shape[0] / block_size)\n",
        "# Get number of rows\n",
        "rows = edited_grasping_dataset.shape[0]\n",
        "X2 = np.zeros((rows - n_blocks, block_size * 20))\n",
        "# For each block\n",
        "for i in range(0, rows - block_size):\n",
        "  # Get entire row, 1st, block_size * 24 rows, second of them and so on..\n",
        "  X2[i] = np.ndarray.flatten(edited_grasping_dataset[i * block_size : (i + 1) * block_size, :])\n",
        "# X now contains mutliple blocks\n",
        "y2 = np.ones(n_blocks * block_size)\n",
        "combined_X = np.concatenate((X, X2), axis=0)\n",
        "combined_y = np.concatenate((y, y2), axis=0)"
      ]
    },
    {
      "cell_type": "code",
      "execution_count": 6,
      "metadata": {
        "colab": {
          "base_uri": "https://localhost:8080/"
        },
        "id": "j0SU43jpH6Vt",
        "outputId": "1fa268dc-e648-4e85-f7c9-86ca09d1e9b9"
      },
      "outputs": [
        {
          "name": "stdout",
          "output_type": "stream",
          "text": [
            "torch.Size([24, 2880]) torch.Size([1597, 1])\n"
          ]
        }
      ],
      "source": [
        "# covnert into tensors since numpy uses 64 bit floating point\n",
        "X = torch.tensor(combined_X, dtype=torch.float32)\n",
        "y = torch.tensor(combined_y, dtype=torch.float32)\n",
        "y = torch.reshape(y,(-1,1)) # a single dimension uses -1 to infer the length. new shape\n",
        "\n",
        "print(X.shape, y.shape)"
      ]
    },
    {
      "cell_type": "code",
      "execution_count": 7,
      "metadata": {
        "id": "sVsm3hfno_-i"
      },
      "outputs": [],
      "source": [
        "#define a class\n",
        "\n",
        "class NeuralNetwork(nn.Module):\n",
        "    def __init__(self):\n",
        "        super().__init__()\n",
        "        #self.flatten = nn.Flatten()\n",
        "        self.linear_relu_stack = nn.Sequential(\n",
        "            nn.Linear(2880, 512), # input\n",
        "            nn.ReLU(),\n",
        "            nn.Linear(512, 64),\n",
        "            nn.ReLU(),\n",
        "            nn.Linear(64, 1),\n",
        "            nn.Sigmoid()\n",
        "        )\n",
        "\n",
        "    def forward(self, x):\n",
        "        #x = self.flatten(x)\n",
        "        logits = self.linear_relu_stack(x)\n",
        "        return logits"
      ]
    },
    {
      "cell_type": "code",
      "execution_count": 8,
      "metadata": {
        "colab": {
          "base_uri": "https://localhost:8080/"
        },
        "id": "V9v3oCcTp-0q",
        "outputId": "97907e39-6ff0-4b24-c554-c52e4231cfad"
      },
      "outputs": [
        {
          "name": "stdout",
          "output_type": "stream",
          "text": [
            "NeuralNetwork(\n",
            "  (linear_relu_stack): Sequential(\n",
            "    (0): Linear(in_features=2880, out_features=512, bias=True)\n",
            "    (1): ReLU()\n",
            "    (2): Linear(in_features=512, out_features=64, bias=True)\n",
            "    (3): ReLU()\n",
            "    (4): Linear(in_features=64, out_features=1, bias=True)\n",
            "    (5): Sigmoid()\n",
            "  )\n",
            ")\n"
          ]
        }
      ],
      "source": [
        "model = NeuralNetwork().to(device)\n",
        "print(model)"
      ]
    },
    {
      "cell_type": "code",
      "execution_count": 9,
      "metadata": {
        "id": "8QKRiXTGL4wC"
      },
      "outputs": [],
      "source": [
        "#preparation for training"
      ]
    },
    {
      "cell_type": "code",
      "execution_count": 11,
      "metadata": {
        "id": "Kpdsuy9KLsvl"
      },
      "outputs": [],
      "source": [
        "loss_fn = nn.BCELoss() # used for binary classification problems\n",
        "optimizer = torch.optim.Adam(model.parameters(), lr=0.001)"
      ]
    },
    {
      "cell_type": "markdown",
      "metadata": {},
      "source": []
    },
    {
      "cell_type": "markdown",
      "metadata": {
        "id": "tYXp62FbYyCt"
      },
      "source": []
    },
    {
      "cell_type": "code",
      "execution_count": 12,
      "metadata": {
        "id": "W8ajPqZGMfTJ"
      },
      "outputs": [],
      "source": [
        "# train the model\n",
        "\n",
        "n_epochs = 15\n",
        "batch_size = 4 # each batch is a block"
      ]
    },
    {
      "cell_type": "code",
      "execution_count": 15,
      "metadata": {
        "colab": {
          "base_uri": "https://localhost:8080/"
        },
        "id": "gQA9YX0nOpD0",
        "outputId": "d388f7a2-9ae4-42b4-a455-efb27783e934"
      },
      "outputs": [
        {
          "name": "stdout",
          "output_type": "stream",
          "text": [
            "Finished epoch 14, latest loss 0.0005309406551532447\n"
          ]
        }
      ],
      "source": [
        "for epoch in range(n_epochs):\n",
        "  for i in range(0, len(X), batch_size):\n",
        "    Xbatch = X[i:i+batch_size] # specifying the rows\n",
        "    y_pred = model(Xbatch.cuda()) # scalar\n",
        "    ybatch = y[i:i+batch_size].cuda()\n",
        "    loss = loss_fn(y_pred, ybatch)\n",
        "    optimizer.zero_grad()\n",
        "    loss.backward()\n",
        "    optimizer.step()\n",
        "print(f'Finished epoch {epoch}, latest loss {loss}')"
      ]
    },
    {
      "cell_type": "code",
      "execution_count": null,
      "metadata": {
        "id": "ZEcBZ3U9aYrA"
      },
      "outputs": [],
      "source": [
        "# evaluate the accuracy of the model\n",
        "\n",
        "with torch.no_grad(): # no_grad to avoid differentiating\n",
        "    y_pred = model(X)\n",
        " \n",
        "# rounds prediction to nearest integer, check if equal to y, \n",
        "accuracy = (y_pred.round() == y).float().mean() \n",
        "print(f\"Accuracy {accuracy}\")"
      ]
    },
    {
      "cell_type": "code",
      "execution_count": null,
      "metadata": {
        "id": "0nAvdKudZREK"
      },
      "outputs": [],
      "source": []
    }
  ],
  "metadata": {
    "accelerator": "GPU",
    "colab": {
      "provenance": []
    },
    "gpuClass": "standard",
    "kernelspec": {
      "display_name": "Python 3",
      "name": "python3"
    },
    "language_info": {
      "codemirror_mode": {
        "name": "ipython",
        "version": 3
      },
      "file_extension": ".py",
      "mimetype": "text/x-python",
      "name": "python",
      "nbconvert_exporter": "python",
      "pygments_lexer": "ipython3",
      "version": "3.10.0"
    }
  },
  "nbformat": 4,
  "nbformat_minor": 0
}
